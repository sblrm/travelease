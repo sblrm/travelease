{
 "cells": [
  {
   "cell_type": "code",
   "execution_count": null,
   "id": "474552ef-82bb-4975-b155-3ecaa01b0300",
   "metadata": {},
   "outputs": [
    {
     "name": "stderr",
     "output_type": "stream",
     "text": [
      "C:\\Users\\Jethro\\anaconda3\\Lib\\site-packages\\tqdm\\auto.py:21: TqdmWarning: IProgress not found. Please update jupyter and ipywidgets. See https://ipywidgets.readthedocs.io/en/stable/user_install.html\n",
      "  from .autonotebook import tqdm as notebook_tqdm\n"
     ]
    }
   ],
   "source": [
    "import os\n",
    "import google.generativeai as genai\n",
    "\n",
    "class ChatGenerator:\n",
    "    def __init__(self, gemini_api_key: str | None = None, model_name: str = \"gemini-1.5-pro\"):\n",
    "        api_key = gemini_api_key or os.getenv(\"GEMINI_API_KEY\")\n",
    "        if not api_key:\n",
    "            raise ValueError(\"GEMINI_API_KEY is not set.\")\n",
    "        genai.configure(api_key=api_key)\n",
    "        self.model = genai.GenerativeModel(model_name)\n",
    "\n",
    "    def chat(self, query, dataset):\n",
    "        prompt_parts = [\n",
    "            \"DATASET:\\n\" + dataset,\n",
    "            \"PERTANYAAN:\\n\" + query,\n",
    "        ]\n",
    "        response = self.model.generate_content(prompt_parts)\n",
    "        text = getattr(response, \"text\", None)\n",
    "        if not text:\n",
    "            try:\n",
    "                text = response.candidates[0].content.parts[0].text\n",
    "            except Exception:\n",
    "                text = \"Maaf, terjadi kendala saat menghasilkan jawaban.\"\n",
    "        return {\"response\": text}"
   ]
  },
  {
   "cell_type": "code",
   "execution_count": null,
   "id": "a1a45ff5-ea38-4432-a4b6-32ccb0801004",
   "metadata": {},
   "outputs": [
    {
     "name": "stdout",
     "output_type": "stream",
     "text": [
      "{'response': 'Halo! Berikut adalah daftar paket perjalanan yang tersedia:\\n\\n1. Paket Jakarta ↔ Yogyakarta\\n2. Paket Jakarta ↔ Bali\\n3. Paket Bali ↔ Lombok\\n4. Paket Lombok ↔ Labuan Bajo\\n\\nSetiap paket memiliki durasi, harga, fasilitas, dan destinasi wisata yang berbeda. Jika kamu tertarik dengan salah satu paket, silakan beri tahu saya destinasi yang ingin kamu kunjungi, apakah perjalanan satu arah atau pulang-pergi, serta jumlah peserta yang akan ikut. Saya akan membantu memberikan informasi lebih detail mengenai paket tersebut. Terima kasih!'}\n"
     ]
    }
   ],
   "source": [
    "dataset = \"\"\n",
    "with open('dataset.txt', 'r', encoding='utf-8') as file:\n",
    "    dataset = file.read()\n",
    "\n",
    "# Pastikan variabel lingkungan sudah di-set, atau masukkan API key Anda di sini (untuk pengujian lokal saja)\n",
    "# import os; os.environ[\"GEMINI_API_KEY\"] = \"<your-key>\"\n",
    "chatbot = ChatGenerator()\n",
    "result = chatbot.chat(\"Apa aja paketnya kak?\", dataset)\n",
    "print(result)"
   ]
  },
  {
   "cell_type": "code",
   "execution_count": null,
   "id": "7242a73b-4ae4-4f1d-8b59-91804250dbbc",
   "metadata": {},
   "outputs": [],
   "source": []
  }
 ],
 "metadata": {
  "kernelspec": {
   "display_name": "Python 3 (ipykernel)",
   "language": "python",
   "name": "python3"
  },
  "language_info": {
   "codemirror_mode": {
    "name": "ipython",
    "version": 3
   },
   "file_extension": ".py",
   "mimetype": "text/x-python",
   "name": "python",
   "nbconvert_exporter": "python",
   "pygments_lexer": "ipython3",
   "version": "3.12.4"
  }
 },
 "nbformat": 4,
 "nbformat_minor": 5
}
