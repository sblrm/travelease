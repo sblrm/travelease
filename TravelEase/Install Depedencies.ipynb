{
 "cells": [
  {
   "cell_type": "code",
   "execution_count": null,
   "id": "14c0cdd8-aae7-4cb9-8b8f-6c3bdcb82314",
   "metadata": {},
   "outputs": [],
   "source": [
    "!pip install transformers torch PyPDF2 pandas"
   ]
  },
  {
   "cell_type": "code",
   "execution_count": null,
   "id": "6e09c583-27a4-4771-b4da-594b81fa32e2",
   "metadata": {},
   "outputs": [],
   "source": [
    "!pip install datasets"
   ]
  },
  {
   "cell_type": "code",
   "execution_count": null,
   "id": "b1886039-4e46-4314-b33f-cf4df13b6b46",
   "metadata": {},
   "outputs": [],
   "source": [
    "!pip install --upgrade google-generativeai"
   ]
  },
  {
   "cell_type": "code",
   "execution_count": null,
   "id": "5c04c5c8-02e4-4065-870a-4b8cde6af358",
   "metadata": {},
   "outputs": [],
   "source": [
    "!pip install requests"
   ]
  },
  {
   "cell_type": "code",
   "execution_count": null,
   "id": "898acebf-f07d-45a1-b10e-4813fbcff2cb",
   "metadata": {},
   "outputs": [],
   "source": [
    "!pip install flask"
   ]
  },
  {
   "cell_type": "code",
   "execution_count": null,
   "id": "b111fd25-9772-4016-8a63-56e620e8ea7c",
   "metadata": {},
   "outputs": [],
   "source": [
    "!pip install flask"
   ]
  },
  {
   "cell_type": "code",
   "execution_count": null,
   "id": "6f28df41-3454-4a2c-a997-b2544d5d1314",
   "metadata": {},
   "outputs": [],
   "source": [
    "!pip install phpserialize"
   ]
  }
 ],
 "metadata": {
  "kernelspec": {
   "display_name": "Python 3 (ipykernel)",
   "language": "python",
   "name": "python3"
  },
  "language_info": {
   "codemirror_mode": {
    "name": "ipython",
    "version": 3
   },
   "file_extension": ".py",
   "mimetype": "text/x-python",
   "name": "python",
   "nbconvert_exporter": "python",
   "pygments_lexer": "ipython3",
   "version": "3.12.4"
  }
 },
 "nbformat": 4,
 "nbformat_minor": 5
}
